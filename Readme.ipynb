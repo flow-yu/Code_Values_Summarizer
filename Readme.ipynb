{
 "cells": [
  {
   "cell_type": "markdown",
   "metadata": {},
   "source": [
    "1. Since the original dataset is too large(with 50.7k rows), I only attach the code summarization benchmark created out of it, with around 22.5k \"code_only\" and \"code_values\"(lines with values of variables) pairs. In the google drive zip, the benchmark is in \"Starcoder_sum\" folder. It is divided into four chunks, I used 1,3 and 4 for model training, and chunk2 for testing.\n",
    "   \n",
    "2. I provide the checkpoints to reproduce my experiment results. They are under \"checkpoints\" folder. Please refer to \"codet5-base-multi-sum\" for the original pretained model codet5, and \"code_only\" and \"code_values\" for the best results when training with \"code_only\" or \"code_values\" respectively.\n",
    "   \n",
    "3. \"experiment_train.py\" and \"experiment_evaluate.py\" are for experiments. Pipeline for dataset construction is under \"dataset_pipeline\" folder. \"starcoder_handler_command.py\" and \"starcoder_handler_rerun.py\" is for all the steps before, and \"code_summarizor.ipynb\" is for the \"Runtime Information Extraction\" part of the report\n",
    "  \n",
    "4. Since the dataset construction process will take days to complete(especially because the pdb debugging takes long long time), here are only the steps for reproduing my experiment results from my checkpoints:   \n",
    "(Typically evaluating process takes around 1.5h and training process takes around 2h/epoch, based on your machine)\n",
    "   1) Unzip the \"Dataset_Checkpoints\" from google drive, and put \"Starcoder_sum\", \"codet5-base-multi-sum\", \"code_only\" and \"code_values\" under the same root folder with experiment scripts.\n",
    "   2) To reproduce the results of the original pretrained model, find \"experiment_evaluate.py\". Set \"model\" = \"codet5-base-multi-sum\" and switch the \"code_only\" between True(3.63) and False(4.56).\n",
    "   3) To reproduce the results of \"code_only\" and \"code_values\", find \"experiment_evaluate.py\". Set \"model\" = \"code_only\" for code_only results(28.24) and \"model\" = \"code_values\" for code_values results(31.66).\n",
    "   4) To reproduce the checkpoints I provided above, find \"experiment_train.py\". \"code_only\" = True for \"code_only\" checkpoints and \"code_only\" = False for \"code_values\" checkpoints. The best epoch is the 2nd and 1st, respectively."
   ]
  }
 ],
 "metadata": {
  "language_info": {
   "name": "python"
  }
 },
 "nbformat": 4,
 "nbformat_minor": 2
}
